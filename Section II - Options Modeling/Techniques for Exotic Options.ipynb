{
 "cells": [
  {
   "cell_type": "markdown",
   "id": "187a636b-55ec-45c4-ade6-77841cf7089c",
   "metadata": {
    "tags": []
   },
   "source": [
    "# Chapter 10: Pricing Techniques for Exotic Options\n",
    "\n",
    "There are two main approaches to handling exotic options: simulation and numerical solutions to partial differential equations.\n",
    "\n",
    "## Simulation\n",
    "A brief list of other applications of simulation which are discussed in the remainder\n",
    "of the book are:\n",
    "* Risk Management: Computing risk metrics of highly dimensioned complex portfolios.\n",
    "* Portfolio Management: Simulating asset returns to aid the generation of optimal portfolios.\n",
    "* Fixed Income: Modeling bond prices and interest rate curves which are inherently multi-dimensional.\n",
    "* Credit: Simulating default events of underlying entities.\n",
    "* Statistics: Generating synthetic data from an empirical distribution (e.g., Bootstrapping)\n",
    "\n",
    "\n",
    "The acceptance-rejection method is only one of many methods for accomplishing this, and this lack of efficiency makes it an unattractive method in practice. Other methods for generating standard normals include:\n",
    "* Rational Approximation Method\n",
    "* Box-Muller Method\n",
    "* Marsaglia’s Polar Method\n",
    "\n",
    "**Euler scheme/Euler discretization of ST**: The intuition behind this approximation is that we are specifying a fine grid and the approximation can be expected to be accurate locally\n",
    "\n",
    "Two of the most common alternative schemes that use this approach are the **Milstein scheme** and the **Runge-Kutta scheme**. \n",
    "\n",
    "\n",
    "Four of the most common variance reduction techniques:\n",
    "* Antithetic Variables\n",
    "* Control Variates\n",
    "* Importance Sampling\n",
    "* Common Random Numbers"
   ]
  },
  {
   "cell_type": "code",
   "execution_count": null,
   "id": "d9036eea-fc39-404f-9987-67f446b4e608",
   "metadata": {},
   "outputs": [],
   "source": []
  }
 ],
 "metadata": {
  "kernelspec": {
   "display_name": "Python 3 (ipykernel)",
   "language": "python",
   "name": "python3"
  },
  "language_info": {
   "codemirror_mode": {
    "name": "ipython",
    "version": 3
   },
   "file_extension": ".py",
   "mimetype": "text/x-python",
   "name": "python",
   "nbconvert_exporter": "python",
   "pygments_lexer": "ipython3",
   "version": "3.9.13"
  }
 },
 "nbformat": 4,
 "nbformat_minor": 5
}
