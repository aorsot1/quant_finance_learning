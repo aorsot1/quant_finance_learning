{
 "cells": [
  {
   "cell_type": "markdown",
   "id": "fed4bd72-10eb-4290-ba13-53591d17a1b0",
   "metadata": {},
   "source": [
    "# Chapter 8: Stochastic Models\n",
    "\n",
    "## TODO:\n",
    "* Model logic in Python\n",
    "* Mathemtical Read \n",
    "\n",
    "## Simple Models\n",
    "* **Black-Scholes model/Geometric Brownian Motion:** In this model, we assume that an asset price follows the dynamics These dynamics are often referred to as Geometric Brownian motion, and it can be shown that specifying this model is equivalent to assuming that prices are log-normally distributed, and that returns are subsequently normally distributed. The model is characterized by a single parameter, **σ** which defines the volatility of the asset. Black-Scholes formula\n",
    "\n",
    "* **Bachelier/Normal model:** we assume asset prices are normally, rather than log-normally, distributed\n",
    "\n",
    "* **Constant Elasticity of Variance (CEV) model:** is a generalization of the log-normal and normal models. As we can see, in addition the standard σ parameter, the model contains a new parameter, **β**, which is the exponent of the asset price used in the volatility term.\n",
    "\n",
    "* absolute vs implied volatility\n",
    "* **Ornstein-Uhlenbeck (OU) Process:** is a first order mean-reverting process where we assume deviations from some long run equilibrium revert at a specified speed, **κ**. This is another reason that this model is commonly employed in interest rate markets, as the combination of the presence of negative rates and the intuitive mean-reverting nature of the rate process are an appealing combination.\n",
    "* **Cox-Ingersol-Ross (CIR) model:** is a mean reverting process with a square root in the volatility term:\n",
    "\n",
    "* characteristic functions\n",
    "\n",
    "What these models will fail to do is provide a single, unified, consistent set of dynamics for the entire volatility surface. To accomplish this, we will need to rely on a more realistic and advanced model. There are three approaches that we can use to try to make our SDEs more accurately reflect market dynamics:\n",
    "\n",
    "* **Stochastic Volatility:** allow volatility, σ to be governed by a stochastic process\n",
    "* **Jump Process:** allow jumps in the underlying asset price.\n",
    "* **Local Volatility:** allow volatility, σ, to be a deterministic function parameterized by state.\n",
    "\n",
    "## Volatility Models\n",
    "* **Heston:** is a stochastic volatility model that is commonly used in equities, FX and commodities.\n",
    "* **Stochastic Alpha Beta Rho (SABR) Model:** it is defined by a two-dimensional system of SDEs, one for the asset price and one for its volatility\n",
    "\n",
    "* volatility skews, smirks and smiles.\n",
    "* skewness and kurtosis of the underlying distribution\n",
    "\n",
    "## Jump Diffusion Models\n",
    "* Poisson processes\n",
    "* **Merton’s Jump Diffusion model:** is one of the more popular models that incorporates potential jumps into the underlying asset process. It combines a Brownian motion based diffusion component with a jump process.\n",
    "* **Stochastic Volatility Plus Jumps (SVJ) model:** is an extension of Merton’s Jump Diffusion model that also incorporates a stochastic volatility process.\n",
    "* **variance gamma (VG) model:** is a jump process where we use a stochastic clock that determines the time steps in our process. The movements in this stochastic clock adhere to a gamma distribution and can be viewed as a pure jump approach to modeling the stochastic nature of volatility\n",
    "* **Variance Gamma with Stochastic Arrival (VGSA) model:** was created to address this weakness. The VGSA model also has a richer parameterization than the VG model, with the standard VG parameters σ, θ and ν as well as a set of new parameters that define how the time process mean reverts (κ, η and λ).\n",
    "* **Fourier Transform technique:**\n",
    "\n",
    "## Local Volatility Model\n",
    "In the Local Volatility model, we make volatility a deterministic function of the current state. That is, volatility may depend on time and the underlying asset price, but it is not stochastic. This dependence of the volatility on the asset price enables us to match the volatility smile, and its dependence on time helps us to match the volatility term structure.\n",
    "\n",
    "* **Stochastic Local Volatility (SLV) models:** combine a stochastic volatility component, as we saw in the Heston and SABR models, with a Local Volatility component, as we saw in the previous section. These models inherit a two-dimensional SDE from their stochastic volatility counterparts and also include a call to a local volatility function."
   ]
  }
 ],
 "metadata": {
  "kernelspec": {
   "display_name": "Python 3 (ipykernel)",
   "language": "python",
   "name": "python3"
  },
  "language_info": {
   "codemirror_mode": {
    "name": "ipython",
    "version": 3
   },
   "file_extension": ".py",
   "mimetype": "text/x-python",
   "name": "python",
   "nbconvert_exporter": "python",
   "pygments_lexer": "ipython3",
   "version": "3.9.13"
  }
 },
 "nbformat": 4,
 "nbformat_minor": 5
}
