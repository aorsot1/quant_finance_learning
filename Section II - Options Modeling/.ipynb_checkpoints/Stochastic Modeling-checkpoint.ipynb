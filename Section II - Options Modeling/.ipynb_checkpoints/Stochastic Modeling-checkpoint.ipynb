{
 "cells": [
  {
   "cell_type": "markdown",
   "id": "fed4bd72-10eb-4290-ba13-53591d17a1b0",
   "metadata": {},
   "source": [
    "# Chapter 8: Stochastic Models\n",
    "\n",
    "## TODO:\n",
    "* Model logic in Python\n",
    "* Mathemtical Read \n",
    "\n",
    "## Simple Models\n",
    "* **Black-Scholes model/Geometric Brownian Motion:** \n",
    "* **Bachelier/Normal model:** \n",
    "* **Constant Elasticity of Variance (CEV) model:** \n",
    "* **Ornstein-Uhlenbeck (OU) Process:**\n",
    "* **Cox-Ingersol-Ross (CIR) model:**\n",
    "\n",
    "What these models will fail to do is provide a single, unified, consistent set of dynamics for the entire volatility surface. To accomplish this, we will need to rely on a more realistic and advanced model. There are three approaches that we can use to try to make our SDEs more accurately reflect market dynamics:\n",
    "\n",
    "* **Stochastic Volatility:** allow volatility, σ to be governed by a stochastic process\n",
    "* **Jump Process:** allow jumps in the underlying asset price.\n",
    "* **Local Volatility:** allow volatility, σ, to be a deterministic function parameterized by state.\n",
    "\n",
    "## Volatility Models\n",
    "* **Heston:** \n",
    "* **Stochastic Alpha Beta Rho (SABR) Model:**\n",
    "\n",
    "## Jump Diffusion Models\n",
    "* **Merton’s Jump Diffusion model:** \n",
    "* **Stochastic Volatility Plus Jumps (SVJ) model:** \n",
    "* **variance gamma (VG) model:** \n",
    "* **Variance Gamma with Stochastic Arrival (VGSA) model:**\n",
    "* **Fourier Transform technique:**\n",
    "\n",
    "## Local Volatility Model\n",
    "In the Local Volatility model, we make volatility a deterministic function of the current state. That is, volatility may depend on time and the underlying asset price, but it is not stochastic. This dependence of the volatility on the asset price enables us to match the volatility smile, and its dependence on time helps us to match the volatility term structure.\n",
    "\n",
    "* **Stochastic Local Volatility (SLV) models:** "
   ]
  }
 ],
 "metadata": {
  "kernelspec": {
   "display_name": "Python 3 (ipykernel)",
   "language": "python",
   "name": "python3"
  },
  "language_info": {
   "codemirror_mode": {
    "name": "ipython",
    "version": 3
   },
   "file_extension": ".py",
   "mimetype": "text/x-python",
   "name": "python",
   "nbconvert_exporter": "python",
   "pygments_lexer": "ipython3",
   "version": "3.9.13"
  }
 },
 "nbformat": 4,
 "nbformat_minor": 5
}
