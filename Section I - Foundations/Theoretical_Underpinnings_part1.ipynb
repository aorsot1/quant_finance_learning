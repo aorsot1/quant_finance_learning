{
 "cells": [
  {
   "cell_type": "markdown",
   "id": "1af94bdb-6f53-4bc7-87ef-36ab118dde8e",
   "metadata": {},
   "source": []
  },
  {
   "cell_type": "markdown",
   "id": "e6ca87d4-d6df-4124-9eec-c5c01dcf934a",
   "metadata": {},
   "source": [
    "Notes\n",
    "* Mathematical finance - Trusted journal subscription"
   ]
  }
 ],
 "metadata": {
  "kernelspec": {
   "display_name": "Python 3 (ipykernel)",
   "language": "python",
   "name": "python3"
  },
  "language_info": {
   "codemirror_mode": {
    "name": "ipython",
    "version": 3
   },
   "file_extension": ".py",
   "mimetype": "text/x-python",
   "name": "python",
   "nbconvert_exporter": "python",
   "pygments_lexer": "ipython3",
   "version": "3.9.13"
  }
 },
 "nbformat": 4,
 "nbformat_minor": 5
}
