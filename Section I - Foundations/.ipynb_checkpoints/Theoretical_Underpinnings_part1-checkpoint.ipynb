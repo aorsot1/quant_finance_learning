{
 "cells": [
  {
   "cell_type": "markdown",
   "id": "1af94bdb-6f53-4bc7-87ef-36ab118dde8e",
   "metadata": {},
   "source": [
    "# Modeling the Risk Neutral Measure\n",
    "\n",
    "## Statistics & Calculus\n",
    "* Basic financial arithmetics with problem solving:\n",
    "    * Calculus I & II\n",
    "    * Stochastic calculus: SDE\n",
    "* Expponential/Logarithmic\n",
    "\n",
    "### Ito's Lemma\n",
    "Ito’s Formula, or Lemma is perhaps the most important result in stochastic calculus. It is how we calculate differentials of complex functions in stochastic calculus, and, along those lines, is the stochastic calculus equivalent of the chain rule in ordinary calculus.\n",
    "* Taylor series\n",
    "* drift-diffusion model\n",
    "* O(dy/dx)\n",
    "* closed-form solution\n",
    "* log-normally distributed\n",
    "* correction term\n",
    "* partial differential equations (PDEs)\n",
    "* Feynman-Kac formula\n",
    "* Girsanov’s theorem: In the realm of fixed income, and in particular interest rate modeling, we will find that the risk-neutral measure is not always the most convenient pricing measure. This is inherently due to interest rates being a stochastic quantity, making the discounting terms themselves stochastic.\n",
    "* Radon-Nikodym derivative"
   ]
  },
  {
   "cell_type": "markdown",
   "id": "e6ca87d4-d6df-4124-9eec-c5c01dcf934a",
   "metadata": {},
   "source": [
    "Notes\n",
    "* Mathematical finance - Trusted journal subscription"
   ]
  }
 ],
 "metadata": {
  "kernelspec": {
   "display_name": "Python 3 (ipykernel)",
   "language": "python",
   "name": "python3"
  },
  "language_info": {
   "codemirror_mode": {
    "name": "ipython",
    "version": 3
   },
   "file_extension": ".py",
   "mimetype": "text/x-python",
   "name": "python",
   "nbconvert_exporter": "python",
   "pygments_lexer": "ipython3",
   "version": "3.9.13"
  }
 },
 "nbformat": 4,
 "nbformat_minor": 5
}
