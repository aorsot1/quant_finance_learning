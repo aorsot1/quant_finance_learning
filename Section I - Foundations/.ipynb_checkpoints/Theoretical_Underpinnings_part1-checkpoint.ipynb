{
 "cells": [
  {
   "cell_type": "markdown",
   "id": "1af94bdb-6f53-4bc7-87ef-36ab118dde8e",
   "metadata": {},
   "source": [
    "# Modeling the Risk Neutral Measure\n",
    "\n",
    "* Theory of risk-neutral: If not, an arbitrage would occur, where we could buy the cheaper of the replicating portfolio and the original asset, and collcet a profit without bearing any risk. This type of no-arbitrage and replication argument is at the heart of so-called risk-neutral pricing theory.\n",
    "* Actual Probabilities (physical measure) vs. risk-neutral prob vs. risk-neutral pricing\n",
    "* Contingent claim\n",
    "* Replication\n",
    "* Assumptions: acutal probabilities -> looking for favorable outcomes --> logn poistion aiming for profitability\n",
    "* Being agnostic to those probabilities\n",
    "* Arbitrage refers to the ability to engage in a trading strategy that obtains excess profits without taking risk.\n",
    "\n",
    "## Risk Neutral Pricing\n",
    "* The first fundamental theorem of asset pricing states that there is no arbitrage if and only if there exists a risk-neutral measure. In this risk-neutral measure, valuations of all replicable securities can be computed by discounting prices at the risk-free rate.\n",
    "* risk-neutral discounting\n",
    "* Risk premia is a foundational concept in quantitative finance, and refers to the fact that investors may earn a premia for bearing risks that others are averse from\n",
    "\n",
    "## Statistics Refreshers\n",
    "* The **Wiener process/Brownian motion** is a stationary stochastic process with independently distributed increments that are usually distributed depending on their size.\n",
    "* Basic financial arithmetics with problem solving\n",
    "* Expponential/Logarithmic\n",
    "* PMF: The probability mass function\n",
    "* cdf: cumulative distribution function\n",
    "* Martingales and measure theory\n",
    "\n",
    "## Stochastic Processes\n",
    "* **Binomial Tree** is a graphical representation of possible intrinsic values that an option may take at different nodes or time periods. There are a few major assumptions in a binomial option pricing model. First, there are only two possible prices, one up and one down. Second, the underlying asset pays no dividends. Third, the interest rate is constant, and fourth, there are no taxes and transaction costs.\n",
    "\n",
    "* Brownian Motion is a continuous time stochastic process that will be at the core for defining uncertainty in many of the stochastic models that we build. In the following list, we highlight the main properties and features \n",
    "    * Independence of Increments\n",
    "    * Normally Distributed Increments\n",
    "    * Continuous But Not Differentiable Paths: What is interesting and striking about Brownian motion then it is nowhere differentiable, yet still continuous.\n",
    "    * Quadratic Variation\n",
    "    * Covariance Properties of Brownian Motion\n",
    "    \n",
    "### Stochastic Differential Equation (SDE)\n",
    "* Generic: In these equations we can see that the underlying asset price, or stochastic process, St, evolves according to two terms. The first term is a drift term, that defines the deterministic movement of the asset over time. The second term then represents the volatility in the stochastic process, and leverages the Brownian Motion building block.\n",
    "* Bachelier: Perhaps the simplest SDE specification is the Bachelier model where we assume that a Brownian Motion defines the volatility in the stochastic process and also allow for drift in the underlying asset.\n",
    "* Black-Scholes leads to the well-known Black-Scholes formula. Specification of the Black-Scholes dynamics, as we have done in (2.37), yields asset prices, St that are log-normally distributed, in contrast to the normally distributed asset prices in the Bachelier model.\n",
    "\n",
    "### Ito's Lemma\n",
    "Ito’s Formula, or Lemma is perhaps the most important result in stochastic calculus. It is how we calculate differentials of complex functions in stochastic calculus, and, along those lines, is the stochastic calculus equivalent of the chain rule in ordinary calculus.\n",
    "* Taylor series\n",
    "* drift-diffusion model\n",
    "* O(dy/dx)\n",
    "* closed-form solution\n",
    "* log-normally distributed\n",
    "* correction term\n",
    "* partial differential equations (PDEs)\n",
    "* Feynman-Kac formula\n",
    "* Girsanov’s theorem: In the realm of fixed income, and in particular interest rate modeling, we will find that the risk-neutral measure is not always the most convenient pricing measure. This is inherently due to interest rates being a stochastic quantity, making the discounting terms themselves stochastic.\n",
    "* Radon-Nikodym derivative"
   ]
  },
  {
   "cell_type": "markdown",
   "id": "e6ca87d4-d6df-4124-9eec-c5c01dcf934a",
   "metadata": {},
   "source": [
    "Notes\n",
    "* Statistics refresher & essential for Quant Finance\n",
    "* Mathematical finance - Trusted journal subscription"
   ]
  }
 ],
 "metadata": {
  "kernelspec": {
   "display_name": "Python 3 (ipykernel)",
   "language": "python",
   "name": "python3"
  },
  "language_info": {
   "codemirror_mode": {
    "name": "ipython",
    "version": 3
   },
   "file_extension": ".py",
   "mimetype": "text/x-python",
   "name": "python",
   "nbconvert_exporter": "python",
   "pygments_lexer": "ipython3",
   "version": "3.9.13"
  }
 },
 "nbformat": 4,
 "nbformat_minor": 5
}
