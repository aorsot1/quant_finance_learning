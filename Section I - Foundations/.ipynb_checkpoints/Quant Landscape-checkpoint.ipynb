{
 "cells": [
  {
   "cell_type": "markdown",
   "id": "92918658-2dba-4e5a-8209-a6d35b90cb3c",
   "metadata": {},
   "source": [
    "## Roles & Areas of Interest\n",
    "* **Asset Management Quants:** A quant at an asset manager will have a large\n",
    "emphasis placed on portfolio construction and portfolio optimization techniques. As\n",
    "such, understanding of the theory of optimization, and the various ways to apply\n",
    "it to investment portfolios is a critical skill-set. Asset management quants may also\n",
    "be responsible for building alpha models and other signals, and in doing so will\n",
    "leverage econometric modeling tools. Asset management quants will rely heavily on\n",
    "the material covered in section IV of this text.\n",
    "* **Data Scientist:** Financial technology is a burgeoning area of growth within the\n",
    "finance industry and is a natural place for quants. Technological advances have led to a proliferation of data over the last decade, leading to new opportunities for quants\n",
    "to analyze and try to extract signals from the data. At these firms, quants generally\n",
    "serve in data scientist type roles, apply machine learning techniques and solve big\n",
    "data problems. For example, a quant may be responsible for building or applying\n",
    "Natural Language Processing algorithms to try to company press releases and trying\n",
    "to extract a meaningful signal to market to buy-side institutions.\n",
    "\n",
    "## Read more on:\n",
    "* There are two main types of instruments in financial markets, cash instruments, such\n",
    "as stocks and bonds, and derivatives, whose value is contingent on an underlying\n",
    "asset, such as a stock or a bond.\n",
    "* Equity instruments enable investors to purchase a stake in the future profits of a company\n",
    "* Governments and private companies often gain access to capital by borrowing money\n",
    "to fund certain projects or expenses. When doing so, they often create a debt security,\n",
    "such as a government or corporate bond. Bonds variations\n",
    "* Forwards are over the-counter contracts and Futures are exchange traded.\n",
    "* Options provide an investor with the right, rather than the obligation to buy or\n",
    "sell an asset at a predetermined price on a specified date. The agreed upon price specified in an option is referred to as the **strike price**. A commonly traded option strategy is a so-called straddle.**A call option** provides an investor the right to buy a security or asset for a given price at the option’s expiry date. **A put option**, conversely, gives an investor the right to sell a security for a pre-specified price at expiry\n",
    "* A swap is an agreement to a periodic exchange of cashflows between two parties.\n",
    "\n",
    "##  Quant project workflow\n",
    "1. Data collection\n",
    "2. Data cleaning\n",
    "3. Model implementation\n",
    "4. Model validation"
   ]
  }
 ],
 "metadata": {
  "kernelspec": {
   "display_name": "Python 3 (ipykernel)",
   "language": "python",
   "name": "python3"
  },
  "language_info": {
   "codemirror_mode": {
    "name": "ipython",
    "version": 3
   },
   "file_extension": ".py",
   "mimetype": "text/x-python",
   "name": "python",
   "nbconvert_exporter": "python",
   "pygments_lexer": "ipython3",
   "version": "3.9.13"
  }
 },
 "nbformat": 4,
 "nbformat_minor": 5
}
