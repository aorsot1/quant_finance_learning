{
 "cells": [
  {
   "cell_type": "markdown",
   "id": "92918658-2dba-4e5a-8209-a6d35b90cb3c",
   "metadata": {},
   "source": [
    "## Qaunt Roles of Interest\n",
    "* **Asset Management Quants:** A quant at an asset manager will have a large\n",
    "emphasis placed on portfolio construction and portfolio optimization techniques. As\n",
    "such, understanding of the theory of optimization, and the various ways to apply\n",
    "it to investment portfolios is a critical skill-set. Asset management quants may also\n",
    "be responsible for building alpha models and other signals, and in doing so will\n",
    "leverage econometric modeling tools. Asset management quants will rely heavily on\n",
    "the material covered in section IV of this text.\n",
    "* **Data Scientist:** Financial technology is a burgeoning area of growth within the\n",
    "finance industry and is a natural place for quants. Technological advances have led to a proliferation of data over the last decade, leading to new opportunities for quants\n",
    "to analyze and try to extract signals from the data. At these firms, quants generally\n",
    "serve in data scientist type roles, apply machine learning techniques and solve big\n",
    "data problems. For example, a quant may be responsible for building or applying\n",
    "Natural Language Processing algorithms to try to company press releases and trying\n",
    "to extract a meaningful signal to market to buy-side institutions.\n",
    "\n",
    "##  Quant project workflow\n",
    "1. Data collection\n",
    "2. Data cleaning\n",
    "3. Model implementation\n",
    "4. Model validation"
   ]
  },
  {
   "cell_type": "markdown",
   "id": "572d9891-dd30-4e94-a38c-424bea9754e3",
   "metadata": {},
   "source": [
    "# Types of Financial Instruments\n",
    "Financial instruments may be divided into two types: cash instruments and derivative instruments.\n",
    "\n",
    "**Cash Instruments**\n",
    "The values of cash instruments are directly influenced and determined by the markets. These can be securities that are easily transferable. Cash instruments may also be deposits and loans agreed upon by borrowers and lenders.\n",
    "\n",
    "**Derivative Instruments**\n",
    "The value and characteristics of derivative instruments are based on the vehicle’s underlying components, such as assets, interest rates, or indices. An equity options contract, for example, is a derivative because it derives its value from the underlying stock. The option gives the right, but not the obligation, to buy or sell the stock at a specified price and by a certain date. As the price of the stock rises and falls, so too does the value of the option although not necessarily by the same percentage. There can be over-the-counter (OTC) derivatives or exchange-traded derivatives. OTC is a market or process whereby securities–that are not listed on formal exchanges–are priced and traded."
   ]
  },
  {
   "cell_type": "markdown",
   "id": "b4480d70-25ab-4b3d-bcd6-cb351dab913e",
   "metadata": {},
   "source": [
    "## Equity Instruments\n",
    "Businesses that rely on shareholders to fund their operations require equity instruments to act as a way to fund operations and provide proof of ownership. This type of documentation does not require a dividend return as it is based on the specific terms of the business and subsequent profits.\n",
    "* **Titled common stock:** When a public company needs to raise funds, common stock is provided to act as equity instruments. The shareholder who offers to fund the business receives co-ownership in exchange. Additionally, this ownership gives the right to vote at shareholders meetings in proportion to their ownership.\n",
    "* **Preferred stock:** Preferred stock is another type of equity instrument that is similar to common stock. The difference between the two is that preferred shareholders receive capital repayment before common stock shareholders but do not have voting rights.\n",
    "* **Convertible debenture:** is another type of equity instrument which is similar to common bonds, the only difference being that a convertible debenture can be converted into common stock during the particular rates and prices mentioned in the prospectus. Unsecured bonds, such as convertible debentures, may or may not have collateral as a back up. That risk is mitigated by the conversion to common stock, which allows the investor to become a co-owner.\n",
    "* **A warrant:** is a type of equity instrument that gives you the right to trade shares at a specific price and date in the future. If you don't trade a warrant by its expiration date, you forfeit the right to do so. It is issued by the corporation itself. \n",
    "* **Options:** Similar to stocks, options are a kind of ownership in a company that is traded on a stock exchange. However, investors have the option of refusing to participate in the stock market at a predetermined price and time.\n",
    "\n",
    "A **dividend** is the agreed upon amount that is to be paid per share. This can be for the face value or the price paid for the preferred stock, which is often the same amount. Dividends can be in the form of:\n",
    "\n",
    "* return on investment expressed as a percentage per year\n",
    "* return of investment as a percentage of all net profits until the principal investment is paid\n",
    "* a combination of both return on and return of investment\n",
    "\n",
    "## Debt instruments\n",
    "Debt instruments, typically referred to as loans, mortgages, leases, notes, and bonds, act as a contractual agreement between a financial institution and a borrower. Debt instruments fall into two designations: secured and unsecured.\n",
    "\n",
    "## Foreign exchange instruments"
   ]
  },
  {
   "cell_type": "markdown",
   "id": "b886d821-5ace-4a82-8a9b-851f0b72cb6a",
   "metadata": {},
   "source": [
    "## Read more on:\n",
    "* A swap is an agreement to a periodic exchange of cashflows between two parties."
   ]
  },
  {
   "cell_type": "markdown",
   "id": "fd6d6f56-2c07-4d1b-816f-f0d11330f327",
   "metadata": {},
   "source": [
    "## Forwards & Futures\n",
    "Forward and futures contracts are derivatives arrangements that involve two parties who agree to buy or sell a specific asset at a set price by a certain date in the future. Buyers and sellers can mitigate the risks associated with price movements down the road by locking in the purchase/sale price in advance. Forwards are over the-counter contracts and Futures are exchange traded.\n",
    "\n",
    "* Forward and futures contracts involve the agreement between two parties to buy and sell an asset at a specified price by a certain date.\n",
    "* A forward contract is a private and customizable agreement that settles at the end of the agreement and is traded over the counter.\n",
    "* A futures contract has standardized terms and is traded on an exchange, where prices are settled on a daily basis until the end of the contract.\n",
    "There is no oversight with respect to forward contracts while futures are regulated by the Commodity Futures Trading Commission.\n",
    "* There is more counterparty risk associated with forwards as opposed to futures, which are less risky as there is almost no chance for default."
   ]
  },
  {
   "cell_type": "markdown",
   "id": "c8d5777e-e910-4e2c-b3e6-633f37e6d5e7",
   "metadata": {},
   "source": [
    "## Options \n",
    "Options are financial derivatives that give buyers the right, but not the obligation, to buy or sell an underlying asset at an agreed-upon price and date. Call options and put options form the basis for a wide range of option strategies designed for hedging, income, or speculation. Options trading can be used for both hedging and speculation, with strategies ranging from simple to complex. Although there are many opportunities to profit with options, investors should carefully weigh the risks.\n",
    "\n",
    "Options spreads are strategies that use various combinations of buying and selling different options for the desired risk-return profile. Spreads are constructed using vanilla options, and can take advantage of various scenarios such as high- or low-volatility environments, up- or down-moves, or anything in-between.\n",
    "\n",
    "The options market uses the term the \"Greeks\" to describe the different dimensions of risk involved in taking an options position, either in a particular option or a portfolio. These variables are called Greeks because they are typically associated with Greek symbols.\n",
    "* Delta (Δ) represents the rate of change between the option's price and a $1 change in the underlying asset's price. \n",
    "* Theta (Θ) represents the rate of change between the option price and time, or time sensitivity - sometimes known as an option's time decay. \n",
    "* Gamma (Γ) represents the rate of change between an option's delta and the underlying asset's price.\n",
    "* Vega (V) represents the rate of change between an option's value and the underlying asset's implied volatility. \n",
    "* Rho (p) represents the rate of change between an option's value and a 1% change in the interest rate.\n",
    "\n",
    "They provide an investor with the right, rather than the obligation to buy or\n",
    "sell an asset at a predetermined price on a specified date. The agreed upon price specified in an option is referred to as the **strike price**. A commonly traded option strategy is a so-called straddle.**A call option** provides an investor the right to buy a security or asset for a given price at the option’s expiry date. **A put option**, conversely, gives an investor the right to sell a security for a pre-specified price at expiry\n",
    "\n",
    "Options Terminology to Know\n",
    "Options trading involves a lot of lingo, here are just some of the key terminology to know the meanings of:\n",
    "\n",
    "* At-the-money (ATM) - an option whose strike price is exactly that of where the underlying is trading. ATM options have a delta of 0.50.\n",
    "* In-the-money (ITM) - an option with intrinsic value, and a delta greater than 0.50. For a call, the strike price of an ITM option will be below the current price of the underlying; for a put, above the current price.\n",
    "* Out-of-the-money (OTM) - an option with only extrinsic (time) value and a delta a less than 0.50. For a call, the strike price of an OTM option will be above the current price of the underlying; for a put, below the current price.\n",
    "* Premium - the price paid for an option in the market\n",
    "* Strike price - the price at which you can buy or sell the underlying, also known as the exercise price.\n",
    "* Underlying - the security upon which the option is based\n",
    "* Implied volatility (IV) - the volatility of the underlying (how quickly and severely it moves), as revealed by market prices\n",
    "* Exercise - when an options contract owner exercises the right to buy or sell at the strike price. The seller is then said to be assigned.\n",
    "* Expiration - the date at which the options contract expires, or ceases to exist. OTM options will expire worthless."
   ]
  }
 ],
 "metadata": {
  "kernelspec": {
   "display_name": "Python 3 (ipykernel)",
   "language": "python",
   "name": "python3"
  },
  "language_info": {
   "codemirror_mode": {
    "name": "ipython",
    "version": 3
   },
   "file_extension": ".py",
   "mimetype": "text/x-python",
   "name": "python",
   "nbconvert_exporter": "python",
   "pygments_lexer": "ipython3",
   "version": "3.9.13"
  }
 },
 "nbformat": 4,
 "nbformat_minor": 5
}
