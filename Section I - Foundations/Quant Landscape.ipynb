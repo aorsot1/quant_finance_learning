{
 "cells": [
  {
   "cell_type": "markdown",
   "id": "92918658-2dba-4e5a-8209-a6d35b90cb3c",
   "metadata": {},
   "source": [
    "## Quant Roles of Interest\n",
    "* **Asset Management Quants:** A quant at an asset manager will have a large\n",
    "emphasis placed on portfolio construction and portfolio optimization techniques. As\n",
    "such, understanding of the theory of optimization, and the various ways to apply\n",
    "it to investment portfolios is a critical skill-set. Asset management quants may also\n",
    "be responsible for building alpha models and other signals, and in doing so will\n",
    "leverage econometric modeling tools. Asset management quants will rely heavily on\n",
    "the material covered in section IV of this text.\n",
    "* **Data Scientist:** Financial technology is a burgeoning area of growth within the\n",
    "finance industry and is a natural place for quants. Technological advances have led to a proliferation of data over the last decade, leading to new opportunities for quants\n",
    "to analyze and try to extract signals from the data. At these firms, quants generally\n",
    "serve in data scientist type roles, apply machine learning techniques and solve big\n",
    "data problems. For example, a quant may be responsible for building or applying\n",
    "Natural Language Processing algorithms to try to company press releases and trying\n",
    "to extract a meaningful signal to market to buy-side institutions."
   ]
  },
  {
   "cell_type": "markdown",
   "id": "b886d821-5ace-4a82-8a9b-851f0b72cb6a",
   "metadata": {},
   "source": [
    "## Read more on:\n",
    "* A swap is an agreement to a periodic exchange of cashflows between two parties.\n",
    "* debt instruments"
   ]
  }
 ],
 "metadata": {
  "kernelspec": {
   "display_name": "Python 3 (ipykernel)",
   "language": "python",
   "name": "python3"
  },
  "language_info": {
   "codemirror_mode": {
    "name": "ipython",
    "version": 3
   },
   "file_extension": ".py",
   "mimetype": "text/x-python",
   "name": "python",
   "nbconvert_exporter": "python",
   "pygments_lexer": "ipython3",
   "version": "3.9.13"
  }
 },
 "nbformat": 4,
 "nbformat_minor": 5
}
