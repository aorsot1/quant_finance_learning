{
 "cells": [
  {
   "cell_type": "markdown",
   "id": "92918658-2dba-4e5a-8209-a6d35b90cb3c",
   "metadata": {},
   "source": [
    "## Quant Roles of Interest\n",
    "* **Asset Management Quants:** A quant at an asset manager will have a large\n",
    "emphasis placed on portfolio construction and portfolio optimization techniques. As\n",
    "such, understanding of the theory of optimization, and the various ways to apply\n",
    "it to investment portfolios is a critical skill-set. Asset management quants may also\n",
    "be responsible for building alpha models and other signals, and in doing so will\n",
    "leverage econometric modeling tools. Asset management quants will rely heavily on\n",
    "the material covered in section IV of this text.\n",
    "* **Data Scientist:** Financial technology is a burgeoning area of growth within the\n",
    "finance industry and is a natural place for quants. Technological advances have led to a proliferation of data over the last decade, leading to new opportunities for quants\n",
    "to analyze and try to extract signals from the data. At these firms, quants generally\n",
    "serve in data scientist type roles, apply machine learning techniques and solve big\n",
    "data problems. For example, a quant may be responsible for building or applying\n",
    "Natural Language Processing algorithms to try to company press releases and trying\n",
    "to extract a meaningful signal to market to buy-side institutions."
   ]
  },
  {
   "cell_type": "markdown",
   "id": "b886d821-5ace-4a82-8a9b-851f0b72cb6a",
   "metadata": {},
   "source": [
    "## Read more on:\n",
    "* Basic financial arithmetics with problem solving:\n",
    "    * Calculus I & II\n",
    "    * Stochastic calculus: SDE\n",
    "* Expponential/Logarithmic\n",
    "\n",
    "## Quantitative Analysts\n",
    "* **Mathemtical cornerstone**\n",
    "    * Calculus (including differential, integral and stochastic)\n",
    "    * Linear algebra and differential equations\n",
    "    * Probability theory and statistics/Econometrics\n",
    "* **Numerical analysis:** is a branch of mathematics that solves continuous problems using numeric approximation. It involves designing methods that give approximate but accurate numeric solutions, which is useful in cases where the exact solution is impossible or prohibitively expensive to calculate.\n",
    "* **Financial modeling:** Because of this hidden complexity, the skills most valued in a quant are those related to mathematics and computation rather than finance.\n",
    "    * Portfolio theory\n",
    "    * Equity and interest rate derivatives, including exotics\n",
    "    * Credit-risk products\n",
    "* **Risk management:** is the practice of protecting economic value in a firm by using financial instruments to manage exposure to financial risk - principally operational risk, credit risk and market risk, with more specific variants as listed aside.\n",
    "* **Computer Competency:** Software skills are also critical to job performance. **C++** is typically used for high-frequency trading applications, and offline statistical analysis would be performed in **MATLAB, SAS, S-PLUS** or a similar package. Pricing knowledge may also be embedded in trading tools created with Java, .NET or VBA, and are often integrated with Excel. Monte Carlo techniques are essential. A majority of the work is also realized in **Python**, as scripting-type languages are good for running lots of data and multiple scenarios."
   ]
  },
  {
   "cell_type": "markdown",
   "id": "3f4f3136-c830-4a2d-9dca-db050589d992",
   "metadata": {},
   "source": [
    "### Ito's Lemma\n",
    "Ito’s Formula, or Lemma is perhaps the most important result in stochastic calculus. It is how we calculate differentials of complex functions in stochastic calculus, and, along those lines, is the stochastic calculus equivalent of the chain rule in ordinary calculus.\n",
    "* Taylor series\n",
    "* drift-diffusion model\n",
    "* O(dy/dx)\n",
    "* closed-form solution\n",
    "* log-normally distributed\n",
    "* correction term\n",
    "* partial differential equations (PDEs)\n",
    "* Feynman-Kac formula\n",
    "* Girsanov’s theorem: In the realm of fixed income, and in particular interest rate modeling, we will find that the risk-neutral measure is not always the most convenient pricing measure. This is inherently due to interest rates being a stochastic quantity, making the discounting terms themselves stochastic.\n",
    "* Radon-Nikodym derivative"
   ]
  }
 ],
 "metadata": {
  "kernelspec": {
   "display_name": "Python 3 (ipykernel)",
   "language": "python",
   "name": "python3"
  },
  "language_info": {
   "codemirror_mode": {
    "name": "ipython",
    "version": 3
   },
   "file_extension": ".py",
   "mimetype": "text/x-python",
   "name": "python",
   "nbconvert_exporter": "python",
   "pygments_lexer": "ipython3",
   "version": "3.9.13"
  }
 },
 "nbformat": 4,
 "nbformat_minor": 5
}
